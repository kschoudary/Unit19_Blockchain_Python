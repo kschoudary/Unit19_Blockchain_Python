{
 "cells": [
  {
   "cell_type": "markdown",
   "metadata": {},
   "source": [
    "## HW-19 Python Code"
   ]
  },
  {
   "cell_type": "code",
   "execution_count": 8,
   "metadata": {},
   "outputs": [
    {
     "data": {
      "text/plain": [
       "'C:\\\\Users\\\\kscho\\\\SW'"
      ]
     },
     "execution_count": 8,
     "metadata": {},
     "output_type": "execute_result"
    }
   ],
   "source": [
    "pwd()"
   ]
  },
  {
   "cell_type": "code",
   "execution_count": 9,
   "metadata": {},
   "outputs": [],
   "source": [
    "mnemonic_words = \"emerge donkey elegant recycle draft pride judge pig order license slogan during\""
   ]
  },
  {
   "cell_type": "code",
   "execution_count": 10,
   "metadata": {},
   "outputs": [],
   "source": [
    "# My Folder where HD-WALLET is installed\n",
    "\n",
    "# C:\\Users\\kscho\\SW\\hd-wallet-derive\n",
    "# C:\\Users\\kscho\\SW\n",
    "# C:\\Users\\kscho\\SW"
   ]
  },
  {
   "cell_type": "code",
   "execution_count": 11,
   "metadata": {},
   "outputs": [],
   "source": [
    "import os\n",
    "# os.chdir(r'C:\\Users\\metin\\Documents\\nufintech')\n",
    "os.chdir(r'C:\\Users\\kscho\\SW')"
   ]
  },
  {
   "cell_type": "code",
   "execution_count": 12,
   "metadata": {},
   "outputs": [
    {
     "name": "stdout",
     "output_type": "stream",
     "text": [
      "b\"\\n+-----------------+------------------------------------+------------------------------------------------------+--------------------------------------------------------------------+\\n| path            | address                            | privkey                                              | pubkey                                                             |\\n+-----------------+------------------------------------+------------------------------------------------------+--------------------------------------------------------------------+\\n| m/44'/0'/0'/0/0 | 18jX7n6NB4bPMjdPPES6yAXFf2JTjjn7w2 | KxKdoPmABtimf2QXJMV5gdLWYSaijGbhUyR9t8Mjzk8pzxyvKLEG | 02e1b23c8861e783067e172e7a8a5c734e797b5df5c81bc052524f275e7ddfd7b0 |\\n| m/44'/0'/0'/0/1 | 1GN2XoME5eKsbcdY3g4ohvzXQFpPuRGEDP | L3eFwbvjy3p3Exnk8rcVhxepusAcpqbsj3Dk86xByBk9h19LJwxn | 02cfd5912e26a9c6ba7195ef5d3273aa3ca0dd76dc5745f7e084ff937e5969b224 |\\n| m/44'/0'/0'/0/2 | 1K5P76Nb7rpJ3efVftPZM3UGuUBVsQg2e4 | KwxAw6Fs9ZjVM5Ud3nMxiCwGYqbNXcT6vgJJJfd7TYnp65xTEXNt | 0331e00ae7407259cb742c9245df54496e59c50af2534815365bf5972dabbe0bda |\\n| m/44'/0'/0'/0/3 | 1A36wsDJQmyDkwST7tqL7EfP1XFz9qbCbA | Kxo4PPpwdZoby8aYccGHBeGomJNhpQGYUijP65dGeygXc8buQh5k | 03328c278b818f5dc168932d0f26238cf925b37ffa4123ece0891625a2f7eae24d |\\n| m/44'/0'/0'/0/4 | 1KYFb68cx5H7rzVVvTESxNSMCzPFwAcYhC | L2u8LByhQeB9gtM4ufBEmiHandgsCBCwKDyGDRJLfD4j7KdkmVQY | 03e55866a172e52281af1a98b4fc49a6afd319030c046fecfa76c90773444e496f |\\n| m/44'/0'/0'/0/5 | 1DNGicLs731xtgYrbwJeqvhd9kDkkPwzuj | L3CknhMNCD7wvxHMJpQ5Txn9oJGs55zbN9VdVRons3LYLaQLwAyG | 025cafd75b6bb370ec0716690c2d8eaea5b775a78fec1ec6c8d49b210b12e0493e |\\n| m/44'/0'/0'/0/6 | 1MADQZi4Mpbtgukz9wWmkvRc1wxCoTkGjN | KxJb4A99cWgRUbDfMMVv5LTvaJ9ysKGiPBgmvpjg7WJPjNvqqanu | 0240e0d33c4ef95eab4a3d5cbccb1b5e4f98b1e8f6783db8ee5b5a979284d47b4d |\\n| m/44'/0'/0'/0/7 | 1PsDE8KhdSdUpeuv73rdE4hnYb515tdYJX | KxUrEMNvMkiqNzEtvXFrS9ZbFaGc7pvVQnYPTBG6n1fwQTpZAxW9 | 0383cdb5bc4d032b2bdcfab603c037b09cba49bdd6ef2bbcab9b5da516350a7b1c |\\n| m/44'/0'/0'/0/8 | 1BzpWnzKoiYY6vecj9EcEZhX9V2mNjZZWG | L1Fsx2fSrYVNMyP2UZMoccL98RZ8rwevJVeth5XNUah9TJwbs3Ab | 03c828c1a8343083ec92d04fa0f79e8b504969346550bc48d36f6f5defc451598d |\\n| m/44'/0'/0'/0/9 | 1MnN4aNUZBVu7pJ4Bf3rQuGhHgtantrnuE | KzjyPZ68vMjYRumLjnEmmaXwQjTSMhtZ2WyqKLiXAjWTmtK1DvLv | 021125c7047000f0b7827308c7023725156b9c52ef7b2c9513daf2cfdaf2a6bf26 |\\n+-----------------+------------------------------------+------------------------------------------------------+--------------------------------------------------------------------+\\n\\n\"\n"
     ]
    }
   ],
   "source": [
    "import subprocess\n",
    "import json\n",
    "\n",
    "# Mac Users, you might have to try the commented version\n",
    "#command = './derive -g --mnemonic=\"person tortoise lake saddle face member apology silk amount release airport hospital\" --cols=path,address,privkey,pubkey --format=json'\n",
    "command = 'php derive -g --mnemonic=mnemonic_words --cols=path,address,privkey,pubkey'\n",
    "p = subprocess.Popen(command, stdout=subprocess.PIPE, shell=True)\n",
    "(output, err) = p.communicate()\n",
    "p_status = p.wait()\n",
    "p = subprocess.Popen(command, stdout=subprocess.PIPE, shell=True)\n",
    "(output, err) = p.communicate()\n",
    "p_status = p.wait()\n",
    "\n",
    "print(output)\n"
   ]
  },
  {
   "cell_type": "markdown",
   "metadata": {},
   "source": [
    "## Try JSON"
   ]
  },
  {
   "cell_type": "markdown",
   "metadata": {},
   "source": []
  },
  {
   "cell_type": "code",
   "execution_count": 13,
   "metadata": {},
   "outputs": [
    {
     "name": "stdout",
     "output_type": "stream",
     "text": [
      "b'\\n[{\"path\":\"m\\\\/44\\'\\\\/0\\'\\\\/0\\'\\\\/0\\\\/0\",\"address\":\"18jX7n6NB4bPMjdPPES6yAXFf2JTjjn7w2\",\"privkey\":\"KxKdoPmABtimf2QXJMV5gdLWYSaijGbhUyR9t8Mjzk8pzxyvKLEG\",\"pubkey\":\"02e1b23c8861e783067e172e7a8a5c734e797b5df5c81bc052524f275e7ddfd7b0\"},{\"path\":\"m\\\\/44\\'\\\\/0\\'\\\\/0\\'\\\\/0\\\\/1\",\"address\":\"1GN2XoME5eKsbcdY3g4ohvzXQFpPuRGEDP\",\"privkey\":\"L3eFwbvjy3p3Exnk8rcVhxepusAcpqbsj3Dk86xByBk9h19LJwxn\",\"pubkey\":\"02cfd5912e26a9c6ba7195ef5d3273aa3ca0dd76dc5745f7e084ff937e5969b224\"},{\"path\":\"m\\\\/44\\'\\\\/0\\'\\\\/0\\'\\\\/0\\\\/2\",\"address\":\"1K5P76Nb7rpJ3efVftPZM3UGuUBVsQg2e4\",\"privkey\":\"KwxAw6Fs9ZjVM5Ud3nMxiCwGYqbNXcT6vgJJJfd7TYnp65xTEXNt\",\"pubkey\":\"0331e00ae7407259cb742c9245df54496e59c50af2534815365bf5972dabbe0bda\"},{\"path\":\"m\\\\/44\\'\\\\/0\\'\\\\/0\\'\\\\/0\\\\/3\",\"address\":\"1A36wsDJQmyDkwST7tqL7EfP1XFz9qbCbA\",\"privkey\":\"Kxo4PPpwdZoby8aYccGHBeGomJNhpQGYUijP65dGeygXc8buQh5k\",\"pubkey\":\"03328c278b818f5dc168932d0f26238cf925b37ffa4123ece0891625a2f7eae24d\"},{\"path\":\"m\\\\/44\\'\\\\/0\\'\\\\/0\\'\\\\/0\\\\/4\",\"address\":\"1KYFb68cx5H7rzVVvTESxNSMCzPFwAcYhC\",\"privkey\":\"L2u8LByhQeB9gtM4ufBEmiHandgsCBCwKDyGDRJLfD4j7KdkmVQY\",\"pubkey\":\"03e55866a172e52281af1a98b4fc49a6afd319030c046fecfa76c90773444e496f\"},{\"path\":\"m\\\\/44\\'\\\\/0\\'\\\\/0\\'\\\\/0\\\\/5\",\"address\":\"1DNGicLs731xtgYrbwJeqvhd9kDkkPwzuj\",\"privkey\":\"L3CknhMNCD7wvxHMJpQ5Txn9oJGs55zbN9VdVRons3LYLaQLwAyG\",\"pubkey\":\"025cafd75b6bb370ec0716690c2d8eaea5b775a78fec1ec6c8d49b210b12e0493e\"},{\"path\":\"m\\\\/44\\'\\\\/0\\'\\\\/0\\'\\\\/0\\\\/6\",\"address\":\"1MADQZi4Mpbtgukz9wWmkvRc1wxCoTkGjN\",\"privkey\":\"KxJb4A99cWgRUbDfMMVv5LTvaJ9ysKGiPBgmvpjg7WJPjNvqqanu\",\"pubkey\":\"0240e0d33c4ef95eab4a3d5cbccb1b5e4f98b1e8f6783db8ee5b5a979284d47b4d\"},{\"path\":\"m\\\\/44\\'\\\\/0\\'\\\\/0\\'\\\\/0\\\\/7\",\"address\":\"1PsDE8KhdSdUpeuv73rdE4hnYb515tdYJX\",\"privkey\":\"KxUrEMNvMkiqNzEtvXFrS9ZbFaGc7pvVQnYPTBG6n1fwQTpZAxW9\",\"pubkey\":\"0383cdb5bc4d032b2bdcfab603c037b09cba49bdd6ef2bbcab9b5da516350a7b1c\"},{\"path\":\"m\\\\/44\\'\\\\/0\\'\\\\/0\\'\\\\/0\\\\/8\",\"address\":\"1BzpWnzKoiYY6vecj9EcEZhX9V2mNjZZWG\",\"privkey\":\"L1Fsx2fSrYVNMyP2UZMoccL98RZ8rwevJVeth5XNUah9TJwbs3Ab\",\"pubkey\":\"03c828c1a8343083ec92d04fa0f79e8b504969346550bc48d36f6f5defc451598d\"},{\"path\":\"m\\\\/44\\'\\\\/0\\'\\\\/0\\'\\\\/0\\\\/9\",\"address\":\"1MnN4aNUZBVu7pJ4Bf3rQuGhHgtantrnuE\",\"privkey\":\"KzjyPZ68vMjYRumLjnEmmaXwQjTSMhtZ2WyqKLiXAjWTmtK1DvLv\",\"pubkey\":\"021125c7047000f0b7827308c7023725156b9c52ef7b2c9513daf2cfdaf2a6bf26\"}]'\n"
     ]
    }
   ],
   "source": [
    "import subprocess\n",
    "import json\n",
    "\n",
    "#command = './derive -g --mnemonic=\"person tortoise lake saddle face member apology silk amount release airport hospital\" --cols=path,address,privkey,pubkey --format=json'\n",
    "command = 'php derive -g --mnemonic=mnemonic_words --cols=path,address,privkey,pubkey --format=json'\n",
    "p = subprocess.Popen(command, stdout=subprocess.PIPE, shell=True)\n",
    "(output, err) = p.communicate()\n",
    "p_status = p.wait()\n",
    "\n",
    "print(output)"
   ]
  },
  {
   "cell_type": "markdown",
   "metadata": {},
   "source": [
    "## JSON Format"
   ]
  },
  {
   "cell_type": "markdown",
   "metadata": {},
   "source": []
  },
  {
   "cell_type": "code",
   "execution_count": 14,
   "metadata": {},
   "outputs": [
    {
     "name": "stdout",
     "output_type": "stream",
     "text": [
      "18jX7n6NB4bPMjdPPES6yAXFf2JTjjn7w2\n"
     ]
    }
   ],
   "source": [
    "import subprocess\n",
    "import json\n",
    "\n",
    "\n",
    "command = 'php derive -g --mnemonic=mnemonic_words --cols=path,address,privkey,pubkey --format=json'\n",
    "#\n",
    "p = subprocess.Popen(command, stdout=subprocess.PIPE, shell=True)\n",
    "(output, err) = p.communicate()\n",
    "p_status = p.wait()\n",
    "\n",
    "keys = json.loads(output)\n",
    "print(keys[0]['address'])"
   ]
  },
  {
   "cell_type": "code",
   "execution_count": 15,
   "metadata": {},
   "outputs": [
    {
     "name": "stdout",
     "output_type": "stream",
     "text": [
      "KxKdoPmABtimf2QXJMV5gdLWYSaijGbhUyR9t8Mjzk8pzxyvKLEG\n"
     ]
    }
   ],
   "source": [
    "print(keys[0]['privkey'])"
   ]
  },
  {
   "cell_type": "code",
   "execution_count": 16,
   "metadata": {},
   "outputs": [
    {
     "name": "stdout",
     "output_type": "stream",
     "text": [
      "02e1b23c8861e783067e172e7a8a5c734e797b5df5c81bc052524f275e7ddfd7b0\n"
     ]
    }
   ],
   "source": [
    "print(keys[0]['pubkey'])"
   ]
  },
  {
   "cell_type": "code",
   "execution_count": 17,
   "metadata": {},
   "outputs": [
    {
     "name": "stdout",
     "output_type": "stream",
     "text": [
      "address: 1GN2XoME5eKsbcdY3g4ohvzXQFpPuRGEDP\n",
      "privkey: 02cfd5912e26a9c6ba7195ef5d3273aa3ca0dd76dc5745f7e084ff937e5969b224\n",
      "pubkey : 02cfd5912e26a9c6ba7195ef5d3273aa3ca0dd76dc5745f7e084ff937e5969b224\n"
     ]
    }
   ],
   "source": [
    "print('address:', keys[1]['address'])\n",
    "print('privkey:', keys[1]['pubkey'])\n",
    "print('pubkey :', keys[1]['pubkey'])"
   ]
  },
  {
   "cell_type": "code",
   "execution_count": 18,
   "metadata": {},
   "outputs": [
    {
     "name": "stdout",
     "output_type": "stream",
     "text": [
      "address: 1K5P76Nb7rpJ3efVftPZM3UGuUBVsQg2e4\n",
      "privkey: 0331e00ae7407259cb742c9245df54496e59c50af2534815365bf5972dabbe0bda\n",
      "pubkey : 0331e00ae7407259cb742c9245df54496e59c50af2534815365bf5972dabbe0bda\n"
     ]
    }
   ],
   "source": [
    "print('address:', keys[2]['address'])\n",
    "print('privkey:', keys[2]['pubkey'])\n",
    "print('pubkey :', keys[2]['pubkey'])"
   ]
  },
  {
   "cell_type": "code",
   "execution_count": 19,
   "metadata": {},
   "outputs": [
    {
     "data": {
      "text/plain": [
       "'C:\\\\Users\\\\kscho\\\\SW'"
      ]
     },
     "execution_count": 19,
     "metadata": {},
     "output_type": "execute_result"
    }
   ],
   "source": [
    "pwd()"
   ]
  },
  {
   "cell_type": "code",
   "execution_count": null,
   "metadata": {},
   "outputs": [],
   "source": []
  }
 ],
 "metadata": {
  "kernelspec": {
   "display_name": "Python 3",
   "language": "python",
   "name": "python3"
  },
  "language_info": {
   "codemirror_mode": {
    "name": "ipython",
    "version": 3
   },
   "file_extension": ".py",
   "mimetype": "text/x-python",
   "name": "python",
   "nbconvert_exporter": "python",
   "pygments_lexer": "ipython3",
   "version": "3.7.7"
  }
 },
 "nbformat": 4,
 "nbformat_minor": 4
}
