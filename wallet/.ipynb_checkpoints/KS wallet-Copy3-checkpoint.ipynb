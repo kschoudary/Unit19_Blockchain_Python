{
 "cells": [
  {
   "cell_type": "markdown",
   "metadata": {},
   "source": [
    "## HW-19 Python Code"
   ]
  },
  {
   "cell_type": "code",
   "execution_count": 5,
   "metadata": {},
   "outputs": [
    {
     "name": "stdout",
     "output_type": "stream",
     "text": [
      "ETH Details\n",
      "[{'path': \"m/44'/60'/0'/0/0\", 'address': '0xBFd089c8229F6f57BEA38FcbdAc5c445e7914128', 'privkey': '0xe68524939808c31269a3e551d6f9b60a546f2ced53ea48b2fcf5c3338503d6ca', 'pubkey': '0284e685c074973a647f20fa784d147708d628995c0718890e8baf3fcfe3b7d14c'}, {'path': \"m/44'/60'/0'/0/1\", 'address': '0xFe1c6AC3E5b3694f312144828faAa74e0162e230', 'privkey': '0xfefd2fbd16d52c5f27cd19b6a8b0b4a32636da5463875a619a08d623c6d9087a', 'pubkey': '03aef7c71d69c0afee58094c33c2ab2cc30418adf7e1e50605038dc109b65cd268'}, {'path': \"m/44'/60'/0'/0/2\", 'address': '0x63976892920df7fE8b381Ea0c12f0a0c442aBfdD', 'privkey': '0xbd517050a2c3e31e2f99c99ebfa4774e46cab1b5b0fe055eafce5c3f1901921e', 'pubkey': '03ce798b8e37f46b6f0c2a16d55a8485df56495169fc4fae84406e01769f28984b'}]\n",
      "BTC-TEST Details\n",
      "[{'path': \"m/44'/1'/0'/0/0\", 'address': 'mnMn1Z2mL1thQZizjBhEL57upByukZK5rn', 'privkey': 'cTBiD2CFwu3kzUv2vaZNKQ5MJ2MVz3hLP2Vh2SitV2GooREgh9h3', 'pubkey': '022f1ad5fb18575d9270cd85eb1a2ec98452a2c3a1190e04101f983eed876e1879'}, {'path': \"m/44'/1'/0'/0/1\", 'address': 'mskDrb1G7ZYyrGpaLSe9zLpBucQPLvWNtc', 'privkey': 'cU3uq9jqXC8t3pD72j2fywrYPQc5QY7QPvCcVbJ7U61GFerxFhxR', 'pubkey': '0251b1e357e7053c08ca7399bfe06910d08d1242cbc4e2e85ab00039e153c7e6ea'}, {'path': \"m/44'/1'/0'/0/2\", 'address': 'n4VzURXX8TGWzaqUCGNPcMf8ABMgBDr3w6', 'privkey': 'cNZiGcGC5CecHtCt3G4xR2SfxB38dcLATYETfHN1psc9mxqc87js', 'pubkey': '03f3097acea1c26854237680d6c1827a94227aa200a05d48fb2cfd8b6a3026b317'}]\n"
     ]
    }
   ],
   "source": [
    "# Homework-19, Blockchain with Python\n",
    "# This file contains the Python code used in the Homework-19\n",
    "# Developer - Subbaiah Choudary Kotha (KS)\n",
    "# Date: September-7th, 2020\n",
    "\n",
    "# Import Libraries\n",
    "# import constants from constants.py\n",
    "import subprocess\n",
    "import json\n",
    "import os\n",
    "\n",
    "from web3 import Web3\n",
    "from dotenv import load_dotenv\n",
    "from web3.middleware import geth_poa_middleware\n",
    "from eth_account import Account\n",
    "\n",
    "from pathlib import Path\n",
    "from getpass import getpass\n",
    "\n",
    "# Set Folder where HD-WALLET is installed\n",
    "os.chdir(r'C:\\Users\\kscho\\SW')\n",
    "\n",
    "# Display current directory for verification\n",
    "# pwd()\n",
    "\n",
    "# Define the function - derive_wallets and use JSON Format\n",
    "\n",
    "def derive_wallets(mnemonic, coin, numderive):\n",
    "  \n",
    "    command = 'php derive -g --mnemonic=\"' + mnemonic + '\" --cols=path,address,privkey,pubkey --coin=\"' + coin + '\" --numderive=\"' + str(numderive) + '\" --format=json'\n",
    "\n",
    "    p = subprocess.Popen(command, stdout=subprocess.PIPE, shell=True)\n",
    "    (output, err) = p.communicate()\n",
    "    p_status = p.wait()\n",
    "    \n",
    "    keys = json.loads(output)\n",
    "    return keys\n",
    "    \n",
    "# Set Variables\n",
    "#\n",
    "mnemonic = \"crazy kitten zoo also rack load praise between decrease fringe opinion erosion\"\n",
    "numderive = 3\n",
    "\n",
    "# Call the Function with variable for ETH\n",
    "coin='eth'\n",
    "coins_eth=derive_wallets(mnemonic,coin,numderive)   \n",
    "print(\"ETH Details\")\n",
    "print(coins_eth)\n",
    "\n",
    "# Call the Function with variable for BTC-TEST\n",
    "coin='btc-test'\n",
    "coins_btc_test=derive_wallets(mnemonic,coin,numderive)  \n",
    "print(\"BTC-TEST Details\")\n",
    "print(coins_btc_test)\n",
    "\n"
   ]
  },
  {
   "cell_type": "code",
   "execution_count": null,
   "metadata": {},
   "outputs": [],
   "source": [
    "# Get TX Details\n",
    "\n",
    "\n",
    "load_dotenv()\n",
    "\n",
    "w3 = Web3(Web3.HTTPProvider(\"http://127.0.0.1:8545\"))\n",
    "w3.middleware_onion.inject(geth_poa_middleware, layer=0)\n",
    "\n",
    "account_one = Account.from_key(os.getenv(\"PRIVATE_KEY\"))\n",
    "\n",
    "with open(\n",
    "    Path(\n",
    "        \"./keystore/UTC--2019-10-09T00-24-47.260Z--a2c1ec996cee707bb3c323f2d5d9334ad51f835b\"\n",
    "    )\n",
    ") as keyfile:\n",
    "    encrypted_key = keyfile.read()\n",
    "    private_key = w3.eth.account.decrypt(\n",
    "        encrypted_key, getpass(\"Enter keystore password: \")\n",
    "    )\n",
    "    account_two = Account.from_key(private_key)\n",
    "\n",
    "\n",
    "def create_raw_tx(account, recipient, amount):\n",
    "    gasEstimate = w3.eth.estimateGas(\n",
    "        {\"from\": account.address, \"to\": recipient, \"value\": amount}\n",
    "    )\n",
    "    return {\n",
    "        \"from\": account.address,\n",
    "        \"to\": recipient,\n",
    "        \"value\": amount,\n",
    "        \"gasPrice\": w3.eth.gasPrice,\n",
    "        \"gas\": gasEstimate,\n",
    "        \"nonce\": w3.eth.getTransactionCount(account.address),\n",
    "    }\n",
    "\n",
    "\n",
    "def send_tx(account, recipient, amount):\n",
    "    tx = create_raw_tx(account, recipient, amount)\n",
    "    signed_tx = account.sign_transaction(tx)\n",
    "    result = w3.eth.sendRawTransaction(signed_tx.rawTransaction)\n",
    "    print(result.hex())\n",
    "    return result.hex()\n",
    "\n",
    "\n",
    "print(account_one.address)\n",
    "print(account_two.address)\n",
    "\n"
   ]
  },
  {
   "cell_type": "code",
   "execution_count": null,
   "metadata": {},
   "outputs": [],
   "source": []
  },
  {
   "cell_type": "code",
   "execution_count": null,
   "metadata": {},
   "outputs": [],
   "source": []
  },
  {
   "cell_type": "code",
   "execution_count": null,
   "metadata": {},
   "outputs": [],
   "source": []
  },
  {
   "cell_type": "code",
   "execution_count": null,
   "metadata": {},
   "outputs": [],
   "source": []
  },
  {
   "cell_type": "code",
   "execution_count": null,
   "metadata": {},
   "outputs": [],
   "source": []
  },
  {
   "cell_type": "code",
   "execution_count": null,
   "metadata": {},
   "outputs": [],
   "source": []
  }
 ],
 "metadata": {
  "kernelspec": {
   "display_name": "Python 3",
   "language": "python",
   "name": "python3"
  },
  "language_info": {
   "codemirror_mode": {
    "name": "ipython",
    "version": 3
   },
   "file_extension": ".py",
   "mimetype": "text/x-python",
   "name": "python",
   "nbconvert_exporter": "python",
   "pygments_lexer": "ipython3",
   "version": "3.7.7"
  }
 },
 "nbformat": 4,
 "nbformat_minor": 4
}
