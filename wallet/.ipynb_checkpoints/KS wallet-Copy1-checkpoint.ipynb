{
 "cells": [
  {
   "cell_type": "markdown",
   "metadata": {},
   "source": [
    "## HW-19 Python Code"
   ]
  },
  {
   "cell_type": "code",
   "execution_count": 1,
   "metadata": {},
   "outputs": [],
   "source": [
    "# Homework Unit-19\n",
    "# by Subbaiah Kotha (KS)"
   ]
  },
  {
   "cell_type": "code",
   "execution_count": 2,
   "metadata": {},
   "outputs": [],
   "source": [
    "# Import Libraries\n",
    "import subprocess\n",
    "import json\n",
    "import os"
   ]
  },
  {
   "cell_type": "code",
   "execution_count": null,
   "metadata": {},
   "outputs": [],
   "source": [
    "\n"
   ]
  },
  {
   "cell_type": "code",
   "execution_count": 3,
   "metadata": {},
   "outputs": [],
   "source": [
    "# Set Folder where HD-WALLET is installed\n",
    "os.chdir(r'C:\\Users\\kscho\\SW')"
   ]
  },
  {
   "cell_type": "code",
   "execution_count": 4,
   "metadata": {},
   "outputs": [
    {
     "data": {
      "text/plain": [
       "'C:\\\\Users\\\\kscho\\\\SW'"
      ]
     },
     "execution_count": 4,
     "metadata": {},
     "output_type": "execute_result"
    }
   ],
   "source": [
    "pwd()"
   ]
  },
  {
   "cell_type": "code",
   "execution_count": 5,
   "metadata": {},
   "outputs": [],
   "source": [
    "# Define the function - derive_wallets and use JSON Format\n",
    "\n",
    "def derive_wallets(mnemonic, coin, numderive):\n",
    "  \n",
    "    command = 'php derive -g --mnemonic=\"' + mnemonic + '\" --cols=path,address,privkey,pubkey --coin=\"' + coin + '\" --numderive=\"' + str(numderive) + '\" --format=json'\n",
    "\n",
    "    p = subprocess.Popen(command, stdout=subprocess.PIPE, shell=True)\n",
    "    (output, err) = p.communicate()\n",
    "    p_status = p.wait()\n",
    "    \n",
    "    keys = json.loads(output)\n",
    "    return keys\n",
    "    \n"
   ]
  },
  {
   "cell_type": "code",
   "execution_count": 6,
   "metadata": {},
   "outputs": [],
   "source": [
    "# Set Variables\n",
    "#\n",
    "mnemonic = \"crazy kitten zoo also rack load praise between decrease fringe opinion erosion\"\n",
    "#coin = \"btc\"\n",
    "coin = \"btc-test\"\n",
    "numderive = 3"
   ]
  },
  {
   "cell_type": "code",
   "execution_count": 7,
   "metadata": {},
   "outputs": [
    {
     "data": {
      "text/plain": [
       "[{'path': \"m/44'/1'/0'/0/0\",\n",
       "  'address': 'mnMn1Z2mL1thQZizjBhEL57upByukZK5rn',\n",
       "  'privkey': 'cTBiD2CFwu3kzUv2vaZNKQ5MJ2MVz3hLP2Vh2SitV2GooREgh9h3',\n",
       "  'pubkey': '022f1ad5fb18575d9270cd85eb1a2ec98452a2c3a1190e04101f983eed876e1879'},\n",
       " {'path': \"m/44'/1'/0'/0/1\",\n",
       "  'address': 'mskDrb1G7ZYyrGpaLSe9zLpBucQPLvWNtc',\n",
       "  'privkey': 'cU3uq9jqXC8t3pD72j2fywrYPQc5QY7QPvCcVbJ7U61GFerxFhxR',\n",
       "  'pubkey': '0251b1e357e7053c08ca7399bfe06910d08d1242cbc4e2e85ab00039e153c7e6ea'},\n",
       " {'path': \"m/44'/1'/0'/0/2\",\n",
       "  'address': 'n4VzURXX8TGWzaqUCGNPcMf8ABMgBDr3w6',\n",
       "  'privkey': 'cNZiGcGC5CecHtCt3G4xR2SfxB38dcLATYETfHN1psc9mxqc87js',\n",
       "  'pubkey': '03f3097acea1c26854237680d6c1827a94227aa200a05d48fb2cfd8b6a3026b317'}]"
      ]
     },
     "execution_count": 7,
     "metadata": {},
     "output_type": "execute_result"
    }
   ],
   "source": [
    "# Call the Function with variable\n",
    "derive_wallets(mnemonic,coin,numderive)    "
   ]
  },
  {
   "cell_type": "code",
   "execution_count": null,
   "metadata": {},
   "outputs": [],
   "source": []
  },
  {
   "cell_type": "code",
   "execution_count": null,
   "metadata": {},
   "outputs": [],
   "source": []
  },
  {
   "cell_type": "code",
   "execution_count": null,
   "metadata": {},
   "outputs": [],
   "source": []
  },
  {
   "cell_type": "code",
   "execution_count": null,
   "metadata": {},
   "outputs": [],
   "source": []
  },
  {
   "cell_type": "code",
   "execution_count": null,
   "metadata": {},
   "outputs": [],
   "source": []
  },
  {
   "cell_type": "code",
   "execution_count": null,
   "metadata": {},
   "outputs": [],
   "source": []
  },
  {
   "cell_type": "code",
   "execution_count": null,
   "metadata": {},
   "outputs": [],
   "source": []
  }
 ],
 "metadata": {
  "kernelspec": {
   "display_name": "Python 3",
   "language": "python",
   "name": "python3"
  },
  "language_info": {
   "codemirror_mode": {
    "name": "ipython",
    "version": 3
   },
   "file_extension": ".py",
   "mimetype": "text/x-python",
   "name": "python",
   "nbconvert_exporter": "python",
   "pygments_lexer": "ipython3",
   "version": "3.7.7"
  }
 },
 "nbformat": 4,
 "nbformat_minor": 4
}
