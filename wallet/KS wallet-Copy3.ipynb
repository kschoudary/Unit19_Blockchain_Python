{
 "cells": [
  {
   "cell_type": "markdown",
   "metadata": {},
   "source": [
    "## HW-19 Python Code"
   ]
  },
  {
   "cell_type": "code",
   "execution_count": 2,
   "metadata": {},
   "outputs": [
    {
     "name": "stdout",
     "output_type": "stream",
     "text": [
      "ETH Details\n",
      "[{'path': \"m/44'/60'/0'/0/0\", 'address': '0xBFd089c8229F6f57BEA38FcbdAc5c445e7914128', 'privkey': '0xe68524939808c31269a3e551d6f9b60a546f2ced53ea48b2fcf5c3338503d6ca', 'pubkey': '0284e685c074973a647f20fa784d147708d628995c0718890e8baf3fcfe3b7d14c'}, {'path': \"m/44'/60'/0'/0/1\", 'address': '0xFe1c6AC3E5b3694f312144828faAa74e0162e230', 'privkey': '0xfefd2fbd16d52c5f27cd19b6a8b0b4a32636da5463875a619a08d623c6d9087a', 'pubkey': '03aef7c71d69c0afee58094c33c2ab2cc30418adf7e1e50605038dc109b65cd268'}, {'path': \"m/44'/60'/0'/0/2\", 'address': '0x63976892920df7fE8b381Ea0c12f0a0c442aBfdD', 'privkey': '0xbd517050a2c3e31e2f99c99ebfa4774e46cab1b5b0fe055eafce5c3f1901921e', 'pubkey': '03ce798b8e37f46b6f0c2a16d55a8485df56495169fc4fae84406e01769f28984b'}]\n",
      "BTC-TEST Details\n",
      "[{'path': \"m/44'/1'/0'/0/0\", 'address': 'mnMn1Z2mL1thQZizjBhEL57upByukZK5rn', 'privkey': 'cTBiD2CFwu3kzUv2vaZNKQ5MJ2MVz3hLP2Vh2SitV2GooREgh9h3', 'pubkey': '022f1ad5fb18575d9270cd85eb1a2ec98452a2c3a1190e04101f983eed876e1879'}, {'path': \"m/44'/1'/0'/0/1\", 'address': 'mskDrb1G7ZYyrGpaLSe9zLpBucQPLvWNtc', 'privkey': 'cU3uq9jqXC8t3pD72j2fywrYPQc5QY7QPvCcVbJ7U61GFerxFhxR', 'pubkey': '0251b1e357e7053c08ca7399bfe06910d08d1242cbc4e2e85ab00039e153c7e6ea'}, {'path': \"m/44'/1'/0'/0/2\", 'address': 'n4VzURXX8TGWzaqUCGNPcMf8ABMgBDr3w6', 'privkey': 'cNZiGcGC5CecHtCt3G4xR2SfxB38dcLATYETfHN1psc9mxqc87js', 'pubkey': '03f3097acea1c26854237680d6c1827a94227aa200a05d48fb2cfd8b6a3026b317'}]\n"
     ]
    }
   ],
   "source": [
    "# Homework-19, Blockchain with Python\n",
    "# This file contains the Python code used in the Homework-19\n",
    "# Developer - Subbaiah Choudary Kotha (KS)\n",
    "# Date: September-7th, 2020\n",
    "\n",
    "# Import Libraries\n",
    "# import constants from constants.py\n",
    "import subprocess\n",
    "import json\n",
    "import os\n",
    "\n",
    "\n",
    "# Set Folder where HD-WALLET is installed\n",
    "os.chdir(r'C:\\Users\\kscho\\SW')\n",
    "\n",
    "# Display current directory for verification\n",
    "# pwd()\n",
    "\n",
    "# Define the function - derive_wallets and use JSON Format\n",
    "\n",
    "def derive_wallets(mnemonic, coin, numderive):\n",
    "  \n",
    "    command = 'php derive -g --mnemonic=\"' + mnemonic + '\" --cols=path,address,privkey,pubkey --coin=\"' + coin + '\" --numderive=\"' + str(numderive) + '\" --format=json'\n",
    "\n",
    "    p = subprocess.Popen(command, stdout=subprocess.PIPE, shell=True)\n",
    "    (output, err) = p.communicate()\n",
    "    p_status = p.wait()\n",
    "    \n",
    "    keys = json.loads(output)\n",
    "    return keys\n",
    "    \n",
    "# Set Variables\n",
    "#\n",
    "mnemonic = \"crazy kitten zoo also rack load praise between decrease fringe opinion erosion\"\n",
    "numderive = 3\n",
    "\n",
    "# Call the Function with variable for ETH\n",
    "coin='eth'\n",
    "coins_eth=derive_wallets(mnemonic,coin,numderive)   \n",
    "print(\"ETH Details\")\n",
    "print(coins_eth)\n",
    "\n",
    "# Call the Function with variable for BTC-TEST\n",
    "coin='btc-test'\n",
    "coins_btc_test=derive_wallets(mnemonic,coin,numderive)  \n",
    "print(\"BTC-TEST Details\")\n",
    "print(coins_btc_test)\n",
    "\n"
   ]
  },
  {
   "cell_type": "code",
   "execution_count": 21,
   "metadata": {},
   "outputs": [
    {
     "data": {
      "text/plain": [
       "{'eth': [{'path': \"m/44'/60'/0'/0/0\",\n",
       "   'address': '0xBFd089c8229F6f57BEA38FcbdAc5c445e7914128',\n",
       "   'privkey': '0xe68524939808c31269a3e551d6f9b60a546f2ced53ea48b2fcf5c3338503d6ca',\n",
       "   'pubkey': '0284e685c074973a647f20fa784d147708d628995c0718890e8baf3fcfe3b7d14c'},\n",
       "  {'path': \"m/44'/60'/0'/0/1\",\n",
       "   'address': '0xFe1c6AC3E5b3694f312144828faAa74e0162e230',\n",
       "   'privkey': '0xfefd2fbd16d52c5f27cd19b6a8b0b4a32636da5463875a619a08d623c6d9087a',\n",
       "   'pubkey': '03aef7c71d69c0afee58094c33c2ab2cc30418adf7e1e50605038dc109b65cd268'},\n",
       "  {'path': \"m/44'/60'/0'/0/2\",\n",
       "   'address': '0x63976892920df7fE8b381Ea0c12f0a0c442aBfdD',\n",
       "   'privkey': '0xbd517050a2c3e31e2f99c99ebfa4774e46cab1b5b0fe055eafce5c3f1901921e',\n",
       "   'pubkey': '03ce798b8e37f46b6f0c2a16d55a8485df56495169fc4fae84406e01769f28984b'}],\n",
       " 'btc-test': [{'path': \"m/44'/1'/0'/0/0\",\n",
       "   'address': 'mnMn1Z2mL1thQZizjBhEL57upByukZK5rn',\n",
       "   'privkey': 'cTBiD2CFwu3kzUv2vaZNKQ5MJ2MVz3hLP2Vh2SitV2GooREgh9h3',\n",
       "   'pubkey': '022f1ad5fb18575d9270cd85eb1a2ec98452a2c3a1190e04101f983eed876e1879'},\n",
       "  {'path': \"m/44'/1'/0'/0/1\",\n",
       "   'address': 'mskDrb1G7ZYyrGpaLSe9zLpBucQPLvWNtc',\n",
       "   'privkey': 'cU3uq9jqXC8t3pD72j2fywrYPQc5QY7QPvCcVbJ7U61GFerxFhxR',\n",
       "   'pubkey': '0251b1e357e7053c08ca7399bfe06910d08d1242cbc4e2e85ab00039e153c7e6ea'},\n",
       "  {'path': \"m/44'/1'/0'/0/2\",\n",
       "   'address': 'n4VzURXX8TGWzaqUCGNPcMf8ABMgBDr3w6',\n",
       "   'privkey': 'cNZiGcGC5CecHtCt3G4xR2SfxB38dcLATYETfHN1psc9mxqc87js',\n",
       "   'pubkey': '03f3097acea1c26854237680d6c1827a94227aa200a05d48fb2cfd8b6a3026b317'}]}"
      ]
     },
     "execution_count": 21,
     "metadata": {},
     "output_type": "execute_result"
    }
   ],
   "source": [
    "# Define object coins as Dictionary\n",
    "coins = {}\n",
    "\n",
    "# Call the Function with variable for BTC-TEST\n",
    "\n",
    "coin='eth'\n",
    "coins[\"eth\"] = derive_wallets(mnemonic,coin,numderive) \n",
    "\n",
    "coin='btc-test'\n",
    "coins[\"btc-test\"] = derive_wallets(mnemonic,coin,numderive) \n",
    "coins\n"
   ]
  },
  {
   "cell_type": "code",
   "execution_count": null,
   "metadata": {},
   "outputs": [],
   "source": [
    "\n",
    "\n",
    "\n"
   ]
  },
  {
   "cell_type": "code",
   "execution_count": 23,
   "metadata": {},
   "outputs": [
    {
     "name": "stdout",
     "output_type": "stream",
     "text": [
      "{'eth': [{'path': \"m/44'/60'/0'/0/0\", 'address': '0xBFd089c8229F6f57BEA38FcbdAc5c445e7914128', 'privkey': '0xe68524939808c31269a3e551d6f9b60a546f2ced53ea48b2fcf5c3338503d6ca', 'pubkey': '0284e685c074973a647f20fa784d147708d628995c0718890e8baf3fcfe3b7d14c'}, {'path': \"m/44'/60'/0'/0/1\", 'address': '0xFe1c6AC3E5b3694f312144828faAa74e0162e230', 'privkey': '0xfefd2fbd16d52c5f27cd19b6a8b0b4a32636da5463875a619a08d623c6d9087a', 'pubkey': '03aef7c71d69c0afee58094c33c2ab2cc30418adf7e1e50605038dc109b65cd268'}, {'path': \"m/44'/60'/0'/0/2\", 'address': '0x63976892920df7fE8b381Ea0c12f0a0c442aBfdD', 'privkey': '0xbd517050a2c3e31e2f99c99ebfa4774e46cab1b5b0fe055eafce5c3f1901921e', 'pubkey': '03ce798b8e37f46b6f0c2a16d55a8485df56495169fc4fae84406e01769f28984b'}], 'btc-test': [{'path': \"m/44'/1'/0'/0/0\", 'address': 'mnMn1Z2mL1thQZizjBhEL57upByukZK5rn', 'privkey': 'cTBiD2CFwu3kzUv2vaZNKQ5MJ2MVz3hLP2Vh2SitV2GooREgh9h3', 'pubkey': '022f1ad5fb18575d9270cd85eb1a2ec98452a2c3a1190e04101f983eed876e1879'}, {'path': \"m/44'/1'/0'/0/1\", 'address': 'mskDrb1G7ZYyrGpaLSe9zLpBucQPLvWNtc', 'privkey': 'cU3uq9jqXC8t3pD72j2fywrYPQc5QY7QPvCcVbJ7U61GFerxFhxR', 'pubkey': '0251b1e357e7053c08ca7399bfe06910d08d1242cbc4e2e85ab00039e153c7e6ea'}, {'path': \"m/44'/1'/0'/0/2\", 'address': 'n4VzURXX8TGWzaqUCGNPcMf8ABMgBDr3w6', 'privkey': 'cNZiGcGC5CecHtCt3G4xR2SfxB38dcLATYETfHN1psc9mxqc87js', 'pubkey': '03f3097acea1c26854237680d6c1827a94227aa200a05d48fb2cfd8b6a3026b317'}]}\n",
      "<class 'dict'>\n"
     ]
    },
    {
     "data": {
      "text/plain": [
       "'0xBFd089c8229F6f57BEA38FcbdAc5c445e7914128'"
      ]
     },
     "execution_count": 23,
     "metadata": {},
     "output_type": "execute_result"
    }
   ],
   "source": [
    "print(coins)\n",
    "print(type(coins))\n",
    "coins['eth'][0]['address']"
   ]
  },
  {
   "cell_type": "code",
   "execution_count": null,
   "metadata": {},
   "outputs": [],
   "source": []
  },
  {
   "cell_type": "code",
   "execution_count": null,
   "metadata": {},
   "outputs": [],
   "source": []
  },
  {
   "cell_type": "code",
   "execution_count": null,
   "metadata": {},
   "outputs": [],
   "source": []
  },
  {
   "cell_type": "code",
   "execution_count": null,
   "metadata": {},
   "outputs": [],
   "source": []
  }
 ],
 "metadata": {
  "kernelspec": {
   "display_name": "Python 3",
   "language": "python",
   "name": "python3"
  },
  "language_info": {
   "codemirror_mode": {
    "name": "ipython",
    "version": 3
   },
   "file_extension": ".py",
   "mimetype": "text/x-python",
   "name": "python",
   "nbconvert_exporter": "python",
   "pygments_lexer": "ipython3",
   "version": "3.7.7"
  }
 },
 "nbformat": 4,
 "nbformat_minor": 4
}
